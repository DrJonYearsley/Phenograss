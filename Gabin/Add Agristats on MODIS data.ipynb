{
 "cells": [
  {
   "cell_type": "code",
   "execution_count": 1,
   "metadata": {},
   "outputs": [],
   "source": [
    "from datetime import datetime\n",
    "import numpy as np\n",
    "import geopandas\n",
    "import pyproj\n",
    "import shapely.geometry"
   ]
  },
  {
   "cell_type": "code",
   "execution_count": 2,
   "metadata": {},
   "outputs": [
    {
     "name": "stdout",
     "output_type": "stream",
     "text": [
      "[['id' 'x_ITM' 'y_ITM' ... 'ndvi' 'QC' 'date']\n",
      " [11 714443.370165114 761937.917724095 ... 0.669 1\n",
      "  datetime.datetime(2017, 1, 1, 0, 0)]\n",
      " [12 714675.717152128 761943.567815079 ... 0.6735 1\n",
      "  datetime.datetime(2017, 1, 1, 0, 0)]\n",
      " ...\n",
      " [181035 713912.47234178 752183.961850394 ... 0.6213 1\n",
      "  datetime.datetime(2017, 12, 27, 0, 0)]\n",
      " [182741 717862.346898622 752280.817223724 ... 0.7633 1\n",
      "  datetime.datetime(2017, 12, 27, 0, 0)]\n",
      " [182842 718094.69131406 752286.617449876 ... 0.7664 1\n",
      "  datetime.datetime(2017, 12, 27, 0, 0)]]\n"
     ]
    }
   ],
   "source": [
    "file = 'modis_pasture_A2017_square1_d_sq.txt'\n",
    "modisData, transpose = [], []\n",
    "\n",
    "modisFile = open(file, 'r')\n",
    "\n",
    "transition = []\n",
    "\n",
    "for line in modisFile.readlines():\n",
    "\n",
    "    line = line.replace('\"',  '')\n",
    "    line = line.replace('\\n', '')\n",
    "    line = line.split(' ')\n",
    "\n",
    "    if len(transition) == 0:\n",
    "        line.insert(0, 'id')\n",
    "    else:\n",
    "        line[0] = int(line[0])\n",
    "        line[1] = float(line[1])\n",
    "        line[2] = float(line[2])\n",
    "        line[3] = float(line[3])\n",
    "        line[4] = float(line[4])\n",
    "        line[6] = int(line[6])\n",
    "        line[7] = int(line[7])\n",
    "        line[8] = int(line[8])\n",
    "        line[9] = float(line[9])\n",
    "        line[10] = float(line[10])\n",
    "        line[11] = int(line[11])\n",
    "        line[12] = datetime.strptime(line[12], '%Y-%m-%d')\n",
    "\n",
    "    transition.append(line)\n",
    "\n",
    "modisFile.close()\n",
    "\n",
    "header = transition[0]\n",
    "transition = sorted (transition[1::], key=lambda day: day[8])\n",
    "transition = np.insert(transition, 0, header, axis=0)\n",
    "\n",
    "modisData = transition\n",
    "\n",
    "transpose.append(transition[1::].T)\n",
    "xMODIS = transpose[-1][3]\n",
    "yMODIS = transpose[-1][4]\n",
    "coordMODIS = np.array([xMODIS,yMODIS]).T\n",
    "\n",
    "print (modisData)"
   ]
  },
  {
   "cell_type": "code",
   "execution_count": 3,
   "metadata": {},
   "outputs": [
    {
     "name": "stdout",
     "output_type": "stream",
     "text": [
      "                EDNAME  HNVf_likel  \\\n",
      "0     Balbriggan Rural    3.187518   \n",
      "1         Kilsallaghan    3.210960   \n",
      "2                 Lusk    3.316044   \n",
      "3          Ballyboghil    3.229751   \n",
      "4           Balscadden    3.137701   \n",
      "..                 ...         ...   \n",
      "200         Castlewray    3.685656   \n",
      "201        Edenacarnan    4.043524   \n",
      "202         Gortnavern    4.063523   \n",
      "203  Letterkenny Rural    4.017301   \n",
      "204    Manorcunningham    3.210416   \n",
      "\n",
      "                                              geometry  \n",
      "0    POLYGON ((318277.159 266344.065, 318428.675 26...  \n",
      "1    POLYGON ((313257.642 251715.874, 313448.281 25...  \n",
      "2    POLYGON ((321393.910 251839.776, 321354.190 25...  \n",
      "3    POLYGON ((313132.008 256181.718, 313149.044 25...  \n",
      "4    POLYGON ((316604.472 266295.848, 316570.335 26...  \n",
      "..                                                 ...  \n",
      "200  POLYGON ((223908.382 419042.447, 223957.656 41...  \n",
      "201  POLYGON ((214215.221 419636.116, 214305.042 41...  \n",
      "202  POLYGON ((217512.660 420085.563, 217740.284 41...  \n",
      "203  POLYGON ((218214.440 414959.040, 218593.638 41...  \n",
      "204  POLYGON ((227765.702 416838.861, 227382.028 41...  \n",
      "\n",
      "[205 rows x 3 columns]\n"
     ]
    }
   ],
   "source": [
    "gpd = geopandas.read_file('HNVf-Simplified.shp')\n",
    "print (gpd)"
   ]
  },
  {
   "cell_type": "code",
   "execution_count": 4,
   "metadata": {},
   "outputs": [],
   "source": [
    "# https://spatialreference.org/ref/sr-org/modis-sinusoidal-3/ for MODIS\n",
    "projMODIS = pyproj.Proj(\"+proj=sinu +lon_0=0 +x_0=0 +y_0=0 +a=6371007.181 +b=6371007.181 +units=m +no_defs\")\n",
    "\n",
    "# Irish National Grid, epsg:29901\n",
    "# TM65 / Irish Grid, epsg:29902\n",
    "# TM75 / Irish Grid, epsg:29903\n",
    "# IRENET95 / Irish Transverse Mercator, epsg:2157\n",
    "# IRENET95 / UTM zone 29N, epsg:2158\n",
    "projOut = pyproj.Proj(init='epsg:29902')"
   ]
  },
  {
   "cell_type": "code",
   "execution_count": 5,
   "metadata": {},
   "outputs": [
    {
     "name": "stdout",
     "output_type": "stream",
     "text": [
      "{2.85216510619, 3.13770094875, 3.18751786, 3.27415708444, 3.06297827375, 3.31604436267, 3.22975107364, 3.21096025455}\n"
     ]
    }
   ],
   "source": [
    "hnv = []\n",
    "\n",
    "for xy in zip(xMODIS, yMODIS):\n",
    "    xProj, yProj = pyproj.transform(projMODIS, projOut, xy[0], xy[1])\n",
    "    \n",
    "    point = shapely.geometry.Point(xProj, yProj)\n",
    "    \n",
    "    find = False\n",
    "    \n",
    "    for polygon in gpd.values:\n",
    "        \n",
    "        if point.within(polygon[2]):\n",
    "            value = polygon[1]\n",
    "            find = True\n",
    "            break\n",
    "        \n",
    "    if find:\n",
    "        hnv.append(value)\n",
    "    else:\n",
    "        hnv.append(-1)\n",
    "\n",
    "print (set(hnv))"
   ]
  }
 ],
 "metadata": {
  "kernelspec": {
   "display_name": "Python 3",
   "language": "python",
   "name": "python3"
  },
  "language_info": {
   "codemirror_mode": {
    "name": "ipython",
    "version": 3
   },
   "file_extension": ".py",
   "mimetype": "text/x-python",
   "name": "python",
   "nbconvert_exporter": "python",
   "pygments_lexer": "ipython3",
   "version": "3.7.4"
  }
 },
 "nbformat": 4,
 "nbformat_minor": 2
}
