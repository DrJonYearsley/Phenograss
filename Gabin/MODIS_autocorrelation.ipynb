{
 "cells": [
  {
   "cell_type": "markdown",
   "metadata": {},
   "source": [
    "# MODIS spatial autocorrelation\n",
    "\n"
   ]
  },
  {
   "cell_type": "code",
   "execution_count": 1,
   "metadata": {},
   "outputs": [],
   "source": [
    " %matplotlib inline\n",
    "import matplotlib.pyplot as plt\n",
    "import pandas as pd\n",
    "import pysal\n",
    "import numpy as np\n",
    "from scipy.spatial import distance_matrix\n",
    "import libpysal\n",
    "from esda.moran import Moran\n",
    "\n",
    "\n",
    "# Import MODIS data for one square\n",
    "sq1 =pd.read_csv(\"../data/modis_pasture_A2018_square1.csv\")"
   ]
  },
  {
   "cell_type": "code",
   "execution_count": 22,
   "metadata": {},
   "outputs": [],
   "source": [
    "# Distance bins\n",
    "dist_bins = np.linspace(0.2,8,10)*1000\n",
    "moran_I = np.zeros(dist_bins.shape)"
   ]
  },
  {
   "cell_type": "code",
   "execution_count": 23,
   "metadata": {},
   "outputs": [],
   "source": [
    "# Calculate distances between points\n",
    "xy_pairs = sq1.iloc[:,0:2]\n",
    "dist_pairwise = distance_matrix(xy_pairs, xy_pairs,2)"
   ]
  },
  {
   "cell_type": "code",
   "execution_count": 24,
   "metadata": {},
   "outputs": [],
   "source": [
    "# Calculate Moran's I for each distance class\n",
    "for i in range(len(dist_bins)):\n",
    "    if (i+1==len(dist_bins)):\n",
    "      ind = np.where(dist_pairwise>=dist_bins[i])\n",
    "    else:\n",
    "      ind = np.where((dist_pairwise>=dist_bins[i]) & (dist_pairwise<dist_bins[i+1]))\n",
    "\n",
    "    moran_I[i] = np.corrcoef(sq1.evi[ind[0]], sq1.evi[ind[1]])[0,1]\n",
    "        \n",
    "    "
   ]
  },
  {
   "cell_type": "code",
   "execution_count": 25,
   "metadata": {},
   "outputs": [
    {
     "data": {
      "text/plain": [
       "Text(0,0.5,\"Moran's I\")"
      ]
     },
     "execution_count": 25,
     "metadata": {},
     "output_type": "execute_result"
    },
    {
     "data": {
      "image/png": "[encoded data removed]",
      "text/plain": [
       "<Figure size 432x288 with 1 Axes>"
      ]
     },
     "metadata": {
      "needs_background": "light"
     },
     "output_type": "display_data"
    }
   ],
   "source": [
    "plt.plot(dist_bins, moran_I,'-o')\n",
    "plt.plot(dist_bins, np.zeros(dist_bins.shape),'-k')\n",
    "plt.xlabel('Distance Class (km)')\n",
    "plt.ylabel('Moran\\'s I')"
   ]
  },
  {
   "cell_type": "code",
   "execution_count": 16,
   "metadata": {},
   "outputs": [],
   "source": [
    "i=0"
   ]
  },
  {
   "cell_type": "code",
   "execution_count": 17,
   "metadata": {},
   "outputs": [],
   "source": [
    "ind = np.where((dist_pairwise>=dist_bins[i]) & (dist_pairwise<dist_bins[i+1]))"
   ]
  },
  {
   "cell_type": "code",
   "execution_count": 18,
   "metadata": {},
   "outputs": [
    {
     "data": {
      "text/plain": [
       "(array([    0,     0,     0, ..., 18197, 18197, 18197]),\n",
       " array([    1,     6,     7, ..., 18194, 18195, 18196]))"
      ]
     },
     "execution_count": 18,
     "metadata": {},
     "output_type": "execute_result"
    }
   ],
   "source": [
    "ind"
   ]
  },
  {
   "cell_type": "code",
   "execution_count": 19,
   "metadata": {},
   "outputs": [
    {
     "data": {
      "text/plain": [
       "(18198, 18198)"
      ]
     },
     "execution_count": 19,
     "metadata": {},
     "output_type": "execute_result"
    }
   ],
   "source": [
    "dist_pairwise.shape"
   ]
  },
  {
   "cell_type": "code",
   "execution_count": 20,
   "metadata": {},
   "outputs": [
    {
     "data": {
      "text/plain": [
       "(18198, 12)"
      ]
     },
     "execution_count": 20,
     "metadata": {},
     "output_type": "execute_result"
    }
   ],
   "source": [
    "sq1.shape"
   ]
  },
  {
   "cell_type": "code",
   "execution_count": null,
   "metadata": {},
   "outputs": [],
   "source": []
  }
 ],
 "metadata": {
  "kernelspec": {
   "display_name": "Python 3",
   "language": "python",
   "name": "python3"
  },
  "language_info": {
   "codemirror_mode": {
    "name": "ipython",
    "version": 3
   },
   "file_extension": ".py",
   "mimetype": "text/x-python",
   "name": "python",
   "nbconvert_exporter": "python",
   "pygments_lexer": "ipython3",
   "version": "3.7.7"
  }
 },
 "nbformat": 4,
 "nbformat_minor": 4
}
